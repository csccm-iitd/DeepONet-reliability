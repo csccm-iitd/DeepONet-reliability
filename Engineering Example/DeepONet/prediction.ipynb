{
 "cells": [
  {
   "cell_type": "code",
   "execution_count": null,
   "id": "311006f7-aaa0-4352-8928-c038ff9d4789",
   "metadata": {},
   "outputs": [],
   "source": [
    "## Prediction\n",
    "\n",
    "%reset -f\n",
    "\n",
    "import numpy as np\n",
    "import scipy as sp\n",
    "import scipy.io as spi\n",
    "import tensorflow as tf\n",
    "import matplotlib.pyplot as plt\n",
    "\n",
    "from tensorflow import keras\n",
    "from keras.models import Model\n",
    "from keras.layers.merge import concatenate\n",
    "from tensorflow.keras import initializers, regularizers\n",
    "from tensorflow.keras.layers import Dense, Input, Lambda, Dot\n",
    "from tensorflow.keras.layers.experimental import preprocessing\n",
    "\n",
    "with tf.device('/device:cpu:0'):\n",
    "    \n",
    "    dof = 76\n",
    "    dt = 0.01\n",
    "    min_t = 0\n",
    "    max_t = 2\n",
    "\n",
    "    t = np.arange(min_t, max_t, dt)\n",
    "    lt = t.shape[0]\n",
    "    \n",
    "    predicted = np.zeros([10000,200])\n",
    "    x_test_0_new = np.zeros([2000000, 100])\n",
    "    x_test_1_new = np.zeros([2000000, 1])\n",
    "        \n",
    "    string = 'data_10000_samples_fs_100Hz_76_storey_NL_20FT.mat'\n",
    "    data = spi.loadmat(string)\n",
    "    \n",
    "    f = data['f']\n",
    "    disp = data['y'][0:dof,:,:]\n",
    "    \n",
    "    test_samples = 10000\n",
    "    x_test = f[0:-1:2,:].T\n",
    "\n",
    "    for disp_num in range(0,76):\n",
    "        y = disp[disp_num,:,:].T\n",
    "\n",
    "        string = 'model_save_76DOF_NONLINEAR_400_DISP_'+str(disp_num+1)\n",
    "        model = tf.keras.models.load_model(string)\n",
    "        print('5DOF_nonlinear_400_displacement_'+str(disp_num+1))\n",
    "\n",
    "        for i in range(0,test_samples):\n",
    "            x_test_0_new[lt*i:lt+lt*i,:] = np.tile(x_test[i,:],[200,1])\n",
    "            x_test_1_new[lt*i:lt+lt*i,:] = t.reshape([lt,1])\n",
    "\n",
    "        predictions_new = model({\"input_a\":x_test_0_new, \"input_b\":x_test_1_new}).numpy()\n",
    "\n",
    "        for i in range(0,test_samples):\n",
    "            predicted[i,:] = predictions_new[lt*i:lt+lt*i].reshape(1,-1)\n",
    "\n",
    "#         string = '76DOF_training_samples_400_displacement_'+str(disp_num+1)+'_FT_20.mat' \n",
    "#         spi.savemat(string,{'actual_y': y, 'predicted_y': predicted, 'model_num': 400,\n",
    "#                             'disp_num': disp_num+1, 'fourier_terms': 20})"
   ]
  }
 ],
 "metadata": {
  "kernelspec": {
   "display_name": "Python 3 (ipykernel)",
   "language": "python",
   "name": "python3"
  },
  "language_info": {
   "codemirror_mode": {
    "name": "ipython",
    "version": 3
   },
   "file_extension": ".py",
   "mimetype": "text/x-python",
   "name": "python",
   "nbconvert_exporter": "python",
   "pygments_lexer": "ipython3",
   "version": "3.9.6"
  },
  "widgets": {
   "application/vnd.jupyter.widget-state+json": {
    "state": {},
    "version_major": 2,
    "version_minor": 0
   }
  }
 },
 "nbformat": 4,
 "nbformat_minor": 5
}
